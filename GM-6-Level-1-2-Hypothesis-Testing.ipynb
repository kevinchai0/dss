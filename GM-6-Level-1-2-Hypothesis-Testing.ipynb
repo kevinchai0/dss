{
 "cells": [
  {
   "cell_type": "markdown",
   "metadata": {
    "colab_type": "text",
    "id": "5y-jKz6S7cLA"
   },
   "source": [
    "# Hypothesis Testing Demonstration"
   ]
  },
  {
   "cell_type": "code",
   "execution_count": null,
   "metadata": {
    "colab": {},
    "colab_type": "code",
    "id": "x8J9q0k7qww3"
   },
   "outputs": [],
   "source": [
    "import pandas as pd\n",
    "import numpy as np"
   ]
  },
  {
   "cell_type": "markdown",
   "metadata": {
    "colab_type": "text",
    "id": "9GBSUw3TXHPu"
   },
   "source": [
    "Our dataset comes from Kaggle and contains information about the student, including their identity, education level, and test scores. Let's load it in using pandas and display the first couple of rows. "
   ]
  },
  {
   "cell_type": "code",
   "execution_count": null,
   "metadata": {
    "colab": {
     "base_uri": "https://localhost:8080/",
     "height": 204
    },
    "colab_type": "code",
    "id": "R-As6LEwxeO3",
    "outputId": "a81bb6c1-ec61-448e-e7c2-8b7df6754f58"
   },
   "outputs": [],
   "source": [
    "scores = pd.read_csv(\"StudentsPerformance (3).csv\")\n",
    "scores.head(5)\n"
   ]
  },
  {
   "cell_type": "code",
   "execution_count": null,
   "metadata": {},
   "outputs": [],
   "source": [
    "len(scores)"
   ]
  },
  {
   "cell_type": "markdown",
   "metadata": {
    "colab_type": "text",
    "id": "fyxuo8jmXYqX"
   },
   "source": [
    "The 'test preparation course' column contains the unique values 'none' and 'completed', depending on whether or not the student has completed test preparation. "
   ]
  },
  {
   "cell_type": "code",
   "execution_count": null,
   "metadata": {
    "colab": {
     "base_uri": "https://localhost:8080/",
     "height": 119
    },
    "colab_type": "code",
    "id": "PBTNF9QOx7Dp",
    "outputId": "44159c9b-66b0-4664-8932-230439448276"
   },
   "outputs": [],
   "source": [
    "test_prep = scores['test preparation course']\n",
    "test_prep.head(5)"
   ]
  },
  {
   "cell_type": "markdown",
   "metadata": {
    "colab_type": "text",
    "id": "tnFX1aAYXvZ4"
   },
   "source": [
    "The 'writing score' column contains individual data on student writing  scores"
   ]
  },
  {
   "cell_type": "code",
   "execution_count": null,
   "metadata": {
    "colab": {
     "base_uri": "https://localhost:8080/",
     "height": 119
    },
    "colab_type": "code",
    "id": "yTM91Ebg1R1s",
    "outputId": "0b2c4438-727f-4cf7-c060-0587bd2538c3"
   },
   "outputs": [],
   "source": [
    "math_scores = scores[\"math score\"]\n",
    "math_scores.head(5)"
   ]
  },
  {
   "cell_type": "markdown",
   "metadata": {
    "colab_type": "text",
    "id": "xRNvhP9OX5qM"
   },
   "source": [
    "Let's split up the test preparation course column into two series, one with those students who completed test prep and those who didn't"
   ]
  },
  {
   "cell_type": "code",
   "execution_count": null,
   "metadata": {
    "colab": {},
    "colab_type": "code",
    "id": "cEuf9H4U5t1E"
   },
   "outputs": [],
   "source": [
    "completed_scores = scores[scores['test preparation course'] == 'completed']['math score']\n",
    "not_completed_scores = scores[scores['test preparation course'] == 'none']['math score']"
   ]
  },
  {
   "cell_type": "markdown",
   "metadata": {
    "colab_type": "text",
    "id": "Og9mr70mYEy7"
   },
   "source": [
    "Let's visualize the math scores between those who completed test prep versus those who didn't. Here are the two histograms:"
   ]
  },
  {
   "cell_type": "code",
   "execution_count": null,
   "metadata": {
    "colab": {
     "base_uri": "https://localhost:8080/",
     "height": 429
    },
    "colab_type": "code",
    "id": "2NOmbgeL2qVi",
    "outputId": "d9214bd4-abca-4e6b-e893-a19b28d66dcb"
   },
   "outputs": [],
   "source": [
    "import seaborn as sns\n",
    "sns.distplot(completed_scores, color=\"skyblue\", label=\"Test Prep Completed\", bins = 30)\n",
    "sns.distplot(not_completed_scores, color=\"green\", label=\"Test Prep Not Completed\", bins = 30)"
   ]
  },
  {
   "cell_type": "markdown",
   "metadata": {},
   "source": [
    "## Null and Alternative Hypotheses"
   ]
  },
  {
   "cell_type": "markdown",
   "metadata": {
    "colab_type": "text",
    "id": "qGkDth_3ed6E"
   },
   "source": [
    "**We would like to see whether whether test preparation was associated with math scores. To set up our hypothesis test, we can represent the two views of the world using the following null and alternative hypotheses:**\n",
    "\n",
    "Null hypothesis: In the population, the distribution of math scores for those who completed test prep is the same for those who didn't complete test prep. The difference in the sample is due to chance.\n",
    "\n",
    "Alternative hypothesis: In the population, the students who completed test preparation have higher math scores, on average, than those who didn't complete test prep. The observed difference is \"real\". This is what would be considered a one-sided alternative hypothesis. (Two-sided would be something like \"the distributions are different, not necessarily greater or less than\")"
   ]
  },
  {
   "cell_type": "markdown",
   "metadata": {},
   "source": [
    "## Test Statistic"
   ]
  },
  {
   "cell_type": "markdown",
   "metadata": {
    "colab_type": "text",
    "id": "C2WQZwT6YSlC"
   },
   "source": [
    "We want our test statistic to be the difference between the mean completed score and mean none score based on our original data. The value below is our \"observed value\" of the test statistic. Large positive values of this statistic will favor the alternative hypothesis. "
   ]
  },
  {
   "cell_type": "code",
   "execution_count": null,
   "metadata": {
    "colab": {
     "base_uri": "https://localhost:8080/",
     "height": 34
    },
    "colab_type": "code",
    "id": "7Xu8MGHS6Ss9",
    "outputId": "06cd1988-d032-4d56-da3a-bb7516438535"
   },
   "outputs": [],
   "source": [
    "observed_difference = np.mean(completed_scores) - np.mean(not_completed_scores)\n",
    "observed_difference "
   ]
  },
  {
   "cell_type": "markdown",
   "metadata": {},
   "source": [
    "## Permutation Testing"
   ]
  },
  {
   "cell_type": "markdown",
   "metadata": {
    "colab_type": "text",
    "id": "S9nJ-NYWhelR"
   },
   "source": [
    "If there were really no difference between the two distributions in the underlying population, then whether each test preparation was completed or not by the student shouldn't affect their math score, therefore should make no difference to the average. \n",
    "\n",
    "To investigate this more, we will simulate the test statistic under the null hypothesis. Let's shuffle all the math scores randomly among the students.\n",
    "\n",
    "We conduct this random permutation below."
   ]
  },
  {
   "cell_type": "code",
   "execution_count": null,
   "metadata": {
    "colab": {},
    "colab_type": "code",
    "id": "Hmk2QxV83Wb0"
   },
   "outputs": [],
   "source": [
    "def shuffle(series):\n",
    "    '''\n",
    "    Shuffles a series and resets index to preserve shuffle when adding series\n",
    "    back to DataFrame.\n",
    "    '''\n",
    "    return series.sample(frac=1, replace=False).reset_index(drop=True)"
   ]
  },
  {
   "cell_type": "code",
   "execution_count": null,
   "metadata": {
    "colab": {
     "base_uri": "https://localhost:8080/",
     "height": 221
    },
    "colab_type": "code",
    "id": "3ThfAR2q3aGP",
    "outputId": "ba36da52-048d-4db1-96d1-232848ff67c3"
   },
   "outputs": [],
   "source": [
    "scores[\"Shuffled\"] = shuffle(scores[\"math score\"])\n",
    "scores.head()"
   ]
  },
  {
   "cell_type": "markdown",
   "metadata": {
    "colab_type": "text",
    "id": "Y0RmecKQh4C-"
   },
   "source": [
    "In the cell below, we will simulate our test statistic many times and collect the differences in an array."
   ]
  },
  {
   "cell_type": "code",
   "execution_count": null,
   "metadata": {
    "colab": {},
    "colab_type": "code",
    "id": "cJ5isQmb4IKM"
   },
   "outputs": [],
   "source": [
    "#Permutation Test\n",
    "differences = np.array([])\n",
    "\n",
    "repetitions = 5000\n",
    "for i in np.arange(repetitions):\n",
    "    scores[\"Shuffled\"] = shuffle(scores[\"math score\"])\n",
    "  \n",
    "    # Find the difference between the means of two randomly assigned groups\n",
    "    none = scores[scores['test preparation course'] == 'none']['Shuffled']\n",
    "    completed = scores[scores['test preparation course'] == 'completed']['Shuffled']\n",
    "    simulated_difference = np.mean(completed) - np.mean(none)\n",
    "\n",
    "    differences = np.append(differences, simulated_difference)"
   ]
  },
  {
   "cell_type": "markdown",
   "metadata": {
    "colab_type": "text",
    "id": "0Gi1wO7Lh9VH"
   },
   "source": [
    "Here's a histogram of the simulated difference in means below. We see that majority of the values seem to favor 0:"
   ]
  },
  {
   "cell_type": "code",
   "execution_count": null,
   "metadata": {
    "colab": {
     "base_uri": "https://localhost:8080/",
     "height": 415
    },
    "colab_type": "code",
    "id": "Zo53TTR68Z38",
    "outputId": "75c35259-c57a-4f96-c2fe-fa29f3fa1755"
   },
   "outputs": [],
   "source": [
    "sns.distplot(differences)"
   ]
  },
  {
   "cell_type": "markdown",
   "metadata": {},
   "source": [
    "## P-Value Calculation + Conclusion"
   ]
  },
  {
   "cell_type": "markdown",
   "metadata": {
    "colab_type": "text",
    "id": "15lHngemiKOr"
   },
   "source": [
    "Let us now calculate the p-value in order to make a conclusion for this hypothesis test. The p-value in this case would be the proportion of values under the sampling distribution of simulated differences above that are larger or equal to the observed difference. "
   ]
  },
  {
   "cell_type": "code",
   "execution_count": null,
   "metadata": {
    "colab": {
     "base_uri": "https://localhost:8080/",
     "height": 34
    },
    "colab_type": "code",
    "id": "3DZ7PoaU8s3p",
    "outputId": "c3f890c5-bec3-4a72-b3ad-5d78716c5f0c"
   },
   "outputs": [],
   "source": [
    "p_value = np.count_nonzero(differences >= observed_difference) / repetitions\n",
    "p_value"
   ]
  },
  {
   "cell_type": "markdown",
   "metadata": {
    "colab_type": "text",
    "id": "MYlq5IpCnH4e"
   },
   "source": [
    "Due to our p-value being less than the threshold of 0.05, we reject the null hypothesis. "
   ]
  },
  {
   "cell_type": "markdown",
   "metadata": {
    "colab_type": "text",
    "id": "LRN9c4Uvo7Pb"
   },
   "source": [
    "And that concludes our introductory workshop on hypothesis testing! Hope you find this useful in your projects and in the near future! Happy coding :)"
   ]
  },
  {
   "cell_type": "code",
   "execution_count": null,
   "metadata": {
    "colab": {},
    "colab_type": "code",
    "id": "S1Gu2Mf5o_MU"
   },
   "outputs": [],
   "source": []
  }
 ],
 "metadata": {
  "colab": {
   "collapsed_sections": [],
   "name": "Hypothesis Testing General Member Workshop",
   "provenance": [],
   "version": "0.3.2"
  },
  "kernelspec": {
   "display_name": "Python 3",
   "language": "python",
   "name": "python3"
  },
  "language_info": {
   "codemirror_mode": {
    "name": "ipython",
    "version": 3
   },
   "file_extension": ".py",
   "mimetype": "text/x-python",
   "name": "python",
   "nbconvert_exporter": "python",
   "pygments_lexer": "ipython3",
   "version": "3.6.5"
  }
 },
 "nbformat": 4,
 "nbformat_minor": 1
}
